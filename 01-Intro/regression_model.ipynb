{
 "cells": [
  {
   "cell_type": "code",
   "execution_count": 31,
   "id": "210cc8fd",
   "metadata": {},
   "outputs": [],
   "source": [
    "import pandas as pd\n",
    "import numpy as np\n",
    "\n",
    "from sklearn.feature_extraction import DictVectorizer\n",
    "from sklearn.linear_model import LinearRegression\n",
    "from sklearn.metrics import mean_squared_error"
   ]
  },
  {
   "cell_type": "code",
   "execution_count": 32,
   "id": "30fbdb0b",
   "metadata": {},
   "outputs": [],
   "source": [
    "jan_df = pd.read_parquet('https://d37ci6vzurychx.cloudfront.net/trip-data/yellow_tripdata_2025-01.parquet')\n",
    "feb_df = pd.read_parquet('https://d37ci6vzurychx.cloudfront.net/trip-data/yellow_tripdata_2025-02.parquet')"
   ]
  },
  {
   "cell_type": "code",
   "execution_count": 33,
   "id": "7bdc6042",
   "metadata": {},
   "outputs": [
    {
     "name": "stdout",
     "output_type": "stream",
     "text": [
      "Number of columns in January DataFrame: 20\n"
     ]
    }
   ],
   "source": [
    "print(\"Number of columns in January DataFrame:\", len(jan_df.columns))"
   ]
  },
  {
   "cell_type": "code",
   "execution_count": 34,
   "id": "800d5dc6",
   "metadata": {},
   "outputs": [],
   "source": [
    "jan_df['duration'] = (jan_df['tpep_dropoff_datetime'] - jan_df['tpep_pickup_datetime']).dt.total_seconds() / 60\n",
    "feb_df['duration'] = (feb_df['tpep_dropoff_datetime'] - feb_df['tpep_pickup_datetime']).dt.total_seconds() / 60"
   ]
  },
  {
   "cell_type": "code",
   "execution_count": 35,
   "id": "4eaca009",
   "metadata": {},
   "outputs": [
    {
     "name": "stdout",
     "output_type": "stream",
     "text": [
      "Standard deviation of duration in January DataFrame: 38.71358219498144\n"
     ]
    }
   ],
   "source": [
    "print(\"Standard deviation of duration in January DataFrame:\", jan_df['duration'].std())"
   ]
  },
  {
   "cell_type": "code",
   "execution_count": 36,
   "id": "b3c7a9f7",
   "metadata": {},
   "outputs": [
    {
     "name": "stdout",
     "output_type": "stream",
     "text": [
      "Jan dateframe length before filtering: 3475226\n"
     ]
    }
   ],
   "source": [
    "jan_df_before_filter = len(jan_df)\n",
    "print(\"Jan dateframe length before filtering:\", jan_df_before_filter)"
   ]
  },
  {
   "cell_type": "code",
   "execution_count": 37,
   "id": "aee58e45",
   "metadata": {},
   "outputs": [
    {
     "name": "stdout",
     "output_type": "stream",
     "text": [
      "Jan dateframe length after filtering: 3403248\n"
     ]
    }
   ],
   "source": [
    "jan_df = jan_df[(jan_df['duration'] >= 1) & (jan_df['duration'] <= 60)] \n",
    "feb_df = feb_df[(feb_df['duration'] >= 1) & (feb_df['duration'] <= 60)]\n",
    "len_jan_df_after_filter = len(jan_df)\n",
    "print(\"Jan dateframe length after filtering:\", len_jan_df_after_filter)"
   ]
  },
  {
   "cell_type": "code",
   "execution_count": 38,
   "id": "04d5b1c9",
   "metadata": {},
   "outputs": [
    {
     "name": "stdout",
     "output_type": "stream",
     "text": [
      "Fraction of Jan dataframe after filtering: 97.93\n"
     ]
    }
   ],
   "source": [
    "fraction_jan_df_after_filter = (len_jan_df_after_filter / jan_df_before_filter)*100\n",
    "print(\"Fraction of Jan dataframe after filtering:\", round(fraction_jan_df_after_filter, 2))"
   ]
  },
  {
   "cell_type": "code",
   "execution_count": 39,
   "id": "a319b4e7",
   "metadata": {},
   "outputs": [],
   "source": [
    "categorical = ['PULocationID', 'DOLocationID']\n",
    "jan_df[categorical] = jan_df[categorical].astype(str)\n",
    "feb_df[categorical] = feb_df[categorical].astype(str)"
   ]
  },
  {
   "cell_type": "code",
   "execution_count": 40,
   "id": "d66ba58b",
   "metadata": {},
   "outputs": [
    {
     "data": {
      "text/plain": [
       "VendorID                          int32\n",
       "tpep_pickup_datetime     datetime64[us]\n",
       "tpep_dropoff_datetime    datetime64[us]\n",
       "passenger_count                 float64\n",
       "trip_distance                   float64\n",
       "RatecodeID                      float64\n",
       "store_and_fwd_flag               object\n",
       "PULocationID                     object\n",
       "DOLocationID                     object\n",
       "payment_type                      int64\n",
       "fare_amount                     float64\n",
       "extra                           float64\n",
       "mta_tax                         float64\n",
       "tip_amount                      float64\n",
       "tolls_amount                    float64\n",
       "improvement_surcharge           float64\n",
       "total_amount                    float64\n",
       "congestion_surcharge            float64\n",
       "Airport_fee                     float64\n",
       "cbd_congestion_fee              float64\n",
       "duration                        float64\n",
       "dtype: object"
      ]
     },
     "execution_count": 40,
     "metadata": {},
     "output_type": "execute_result"
    }
   ],
   "source": [
    "feb_df.dtypes"
   ]
  },
  {
   "cell_type": "code",
   "execution_count": 41,
   "id": "f37d41a1",
   "metadata": {},
   "outputs": [
    {
     "name": "stdout",
     "output_type": "stream",
     "text": [
      "Shape of X_train: (3403248, 519)\n"
     ]
    }
   ],
   "source": [
    "dv = DictVectorizer()\n",
    "train_dicts = jan_df[categorical].to_dict(orient='records')\n",
    "X_train = dv.fit_transform(train_dicts)\n",
    "print(\"Shape of X_train:\", X_train.shape)\n",
    "y_train = jan_df['duration'].values"
   ]
  },
  {
   "cell_type": "code",
   "execution_count": 42,
   "id": "af37d231",
   "metadata": {},
   "outputs": [
    {
     "name": "stdout",
     "output_type": "stream",
     "text": [
      "RMSE on training data: 7.707822122519484\n"
     ]
    }
   ],
   "source": [
    "lr = LinearRegression()\n",
    "lr.fit(X_train, y_train)\n",
    "y_pred = lr.predict(X_train)\n",
    "mse = mean_squared_error(y_train, y_pred)\n",
    "rmse = np.sqrt(mse)\n",
    "print(\"RMSE on training data:\", rmse)"
   ]
  },
  {
   "cell_type": "code",
   "execution_count": 43,
   "id": "b382656a",
   "metadata": {},
   "outputs": [
    {
     "name": "stdout",
     "output_type": "stream",
     "text": [
      "RMSE on validation data: 7.950985572400415\n"
     ]
    }
   ],
   "source": [
    "val_dicts = feb_df[categorical].to_dict(orient='records')\n",
    "X_val = dv.transform(val_dicts)\n",
    "y_val = feb_df['duration'].values\n",
    "y_pred = lr.predict(X_val)\n",
    "mse = mean_squared_error(y_val, y_pred)\n",
    "rmse = np.sqrt(mse)\n",
    "print(\"RMSE on validation data:\", rmse)"
   ]
  }
 ],
 "metadata": {
  "kernelspec": {
   "display_name": "mlops",
   "language": "python",
   "name": "python3"
  },
  "language_info": {
   "codemirror_mode": {
    "name": "ipython",
    "version": 3
   },
   "file_extension": ".py",
   "mimetype": "text/x-python",
   "name": "python",
   "nbconvert_exporter": "python",
   "pygments_lexer": "ipython3",
   "version": "3.9.12"
  }
 },
 "nbformat": 4,
 "nbformat_minor": 5
}
